{
 "cells": [
  {
   "cell_type": "markdown",
   "metadata": {},
   "source": [
    "### script with permutations"
   ]
  },
  {
   "cell_type": "code",
   "execution_count": 6,
   "metadata": {},
   "outputs": [],
   "source": [
    "import itertools\n",
    "\n",
    "a = 1\n",
    "b = 5\n",
    "\n",
    "result = []\n",
    "my_list = list(range(a,b+1))\n",
    "\n",
    "for i in range(2,len(my_list)+1):\n",
    "    sorted_perms = [perm for perm in itertools.permutations(my_list, i) if sorted(perm) == list(perm)]\n",
    "    result.extend([x for x in sorted_perms if (x[0] == my_list[0]) & (x[-1] == my_list[-1])])"
   ]
  },
  {
   "cell_type": "markdown",
   "metadata": {},
   "source": [
    "### view result"
   ]
  },
  {
   "cell_type": "code",
   "execution_count": 7,
   "metadata": {},
   "outputs": [
    {
     "name": "stdout",
     "output_type": "stream",
     "text": [
      "(1, 5)\n",
      "\n",
      "(1, 2, 5)\n",
      "\n",
      "(1, 3, 5)\n",
      "\n",
      "(1, 4, 5)\n",
      "\n",
      "(1, 2, 3, 5)\n",
      "\n",
      "(1, 2, 4, 5)\n",
      "\n",
      "(1, 3, 4, 5)\n",
      "\n",
      "(1, 2, 3, 4, 5)\n",
      "\n"
     ]
    },
    {
     "data": {
      "text/plain": [
       "[None, None, None, None, None, None, None, None]"
      ]
     },
     "execution_count": 7,
     "metadata": {},
     "output_type": "execute_result"
    }
   ],
   "source": [
    "[print(str(tup) + '\\n') for tup in result]"
   ]
  },
  {
   "cell_type": "markdown",
   "metadata": {},
   "source": [
    "### write to file"
   ]
  },
  {
   "cell_type": "code",
   "execution_count": 8,
   "metadata": {},
   "outputs": [],
   "source": [
    "with open('combinations.txt', 'w') as f:\n",
    "    for item in result:\n",
    "        f.write(f\"{str(item)}\\n\")\n",
    "        #f.write(f\"{str(item).replace('(','').replace(')','').replace(',','')}\\n\")"
   ]
  },
  {
   "cell_type": "code",
   "execution_count": null,
   "metadata": {},
   "outputs": [],
   "source": []
  }
 ],
 "metadata": {
  "kernelspec": {
   "display_name": "Python 3",
   "language": "python",
   "name": "python3"
  },
  "language_info": {
   "codemirror_mode": {
    "name": "ipython",
    "version": 3
   },
   "file_extension": ".py",
   "mimetype": "text/x-python",
   "name": "python",
   "nbconvert_exporter": "python",
   "pygments_lexer": "ipython3",
   "version": "3.7.6"
  }
 },
 "nbformat": 4,
 "nbformat_minor": 2
}
